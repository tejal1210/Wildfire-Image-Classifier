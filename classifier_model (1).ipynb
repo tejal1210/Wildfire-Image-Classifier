{
  "nbformat": 4,
  "nbformat_minor": 0,
  "metadata": {
    "colab": {
      "provenance": [],
      "gpuType": "T4"
    },
    "kernelspec": {
      "name": "python3",
      "display_name": "Python 3"
    },
    "language_info": {
      "name": "python"
    },
    "accelerator": "GPU"
  },
  "cells": [
    {
      "source": [
        "\n",
        "import os\n",
        "import sys\n",
        "from tempfile import NamedTemporaryFile\n",
        "from urllib.request import urlopen\n",
        "from urllib.parse import unquote, urlparse\n",
        "from urllib.error import HTTPError\n",
        "from zipfile import ZipFile\n",
        "import tarfile\n",
        "import shutil\n",
        "\n",
        "CHUNK_SIZE = 40960\n",
        "DATA_SOURCE_MAPPING = 'wildfire-prediction-dataset:https%3A%2F%2Fstorage.googleapis.com%2Fkaggle-data-sets%2F2860500%2F4932759%2Fbundle%2Farchive.zip%3FX-Goog-Algorithm%3DGOOG4-RSA-SHA256%26X-Goog-Credential%3Dgcp-kaggle-com%2540kaggle-161607.iam.gserviceaccount.com%252F20240424%252Fauto%252Fstorage%252Fgoog4_request%26X-Goog-Date%3D20240424T162441Z%26X-Goog-Expires%3D259200%26X-Goog-SignedHeaders%3Dhost%26X-Goog-Signature%3Dba694c6bd22e4adde7a2ef631142681f9a9de53b190fce2e5eda875533fefd3456ff4ca26e70ff7d1459f6dc704c4b7e8f07bdb6702bd89d6da5911dccaa74098293b31d542f4dc83fae1f4c386904f176d7f852fdb32ae6036887cfa1781d1af615db64c9665c56ff8c3eceef835179216f128a8778f3c58877adb69b872eb399577bd292a52cc2c5e43f8b252f146921e27c9d15e40ba2a544a5c0bf5911211d2c6ce1310e5376762186cc0e7a21e5bb102cede5258e3b182117a3c0c318137eba96950ff55451d709c7c100d00455296fc252d1b4e563c7e9416b1e8fc599e3a49748871cbe93cd3598c4b85d07efcaca85c7a5c2d8559f4e380e45f3acd7'\n",
        "\n",
        "KAGGLE_INPUT_PATH='/kaggle/input'\n",
        "KAGGLE_WORKING_PATH='/kaggle/working'\n",
        "KAGGLE_SYMLINK='kaggle'\n",
        "\n",
        "!umount /kaggle/input/ 2> /dev/null\n",
        "shutil.rmtree('/kaggle/input', ignore_errors=True)\n",
        "os.makedirs(KAGGLE_INPUT_PATH, 0o777, exist_ok=True)\n",
        "os.makedirs(KAGGLE_WORKING_PATH, 0o777, exist_ok=True)\n",
        "\n",
        "try:\n",
        "  os.symlink(KAGGLE_INPUT_PATH, os.path.join(\"..\", 'input'), target_is_directory=True)\n",
        "except FileExistsError:\n",
        "  pass\n",
        "try:\n",
        "  os.symlink(KAGGLE_WORKING_PATH, os.path.join(\"..\", 'working'), target_is_directory=True)\n",
        "except FileExistsError:\n",
        "  pass\n",
        "\n",
        "for data_source_mapping in DATA_SOURCE_MAPPING.split(','):\n",
        "    directory, download_url_encoded = data_source_mapping.split(':')\n",
        "    download_url = unquote(download_url_encoded)\n",
        "    filename = urlparse(download_url).path\n",
        "    destination_path = os.path.join(KAGGLE_INPUT_PATH, directory)\n",
        "    try:\n",
        "        with urlopen(download_url) as fileres, NamedTemporaryFile() as tfile:\n",
        "            total_length = fileres.headers['content-length']\n",
        "            print(f'Downloading {directory}, {total_length} bytes compressed')\n",
        "            dl = 0\n",
        "            data = fileres.read(CHUNK_SIZE)\n",
        "            while len(data) > 0:\n",
        "                dl += len(data)\n",
        "                tfile.write(data)\n",
        "                done = int(50 * dl / int(total_length))\n",
        "                sys.stdout.write(f\"\\r[{'=' * done}{' ' * (50-done)}] {dl} bytes downloaded\")\n",
        "                sys.stdout.flush()\n",
        "                data = fileres.read(CHUNK_SIZE)\n",
        "            if filename.endswith('.zip'):\n",
        "              with ZipFile(tfile) as zfile:\n",
        "                zfile.extractall(destination_path)\n",
        "            else:\n",
        "              with tarfile.open(tfile.name) as tarfile:\n",
        "                tarfile.extractall(destination_path)\n",
        "            print(f'\\nDownloaded and uncompressed: {directory}')\n",
        "    except HTTPError as e:\n",
        "        print(f'Failed to load (likely expired) {download_url} to path {destination_path}')\n",
        "        continue\n",
        "    except OSError as e:\n",
        "        print(f'Failed to load {download_url} to path {destination_path}')\n",
        "        continue\n",
        "\n",
        "print('Data source import complete.')\n"
      ],
      "metadata": {
        "id": "qwxFJ1fc7Hru",
        "colab": {
          "base_uri": "https://localhost:8080/"
        },
        "outputId": "d8514183-5872-4aa7-ca5c-808038b3ca49"
      },
      "cell_type": "code",
      "outputs": [
        {
          "output_type": "stream",
          "name": "stdout",
          "text": [
            "Downloading wildfire-prediction-dataset, 1551896015 bytes compressed\n",
            "[==================================================] 1551896015 bytes downloaded\n",
            "Downloaded and uncompressed: wildfire-prediction-dataset\n",
            "Data source import complete.\n"
          ]
        }
      ],
      "execution_count": 1
    },
    {
      "cell_type": "code",
      "source": [
        "import tensorflow as tf\n",
        "import numpy as np\n",
        "import matplotlib.pyplot as plt\n",
        "\n",
        "from tensorflow.keras import optimizers, regularizers\n",
        "from tensorflow.keras.models import Sequential\n",
        "from tensorflow.keras.utils import load_img, img_to_array\n",
        "from tensorflow.keras.layers import Dense, Flatten, BatchNormalization, Conv2D, MaxPooling2D, Dropout\n",
        "from tensorflow.keras.preprocessing.image import ImageDataGenerator\n",
        "from tensorflow.keras.callbacks import ModelCheckpoint, EarlyStopping\n"
      ],
      "metadata": {
        "execution": {
          "iopub.status.busy": "2023-10-01T05:50:03.717283Z",
          "iopub.execute_input": "2023-10-01T05:50:03.718118Z",
          "iopub.status.idle": "2023-10-01T05:50:18.455755Z",
          "shell.execute_reply.started": "2023-10-01T05:50:03.718081Z",
          "shell.execute_reply": "2023-10-01T05:50:18.454819Z"
        },
        "trusted": true,
        "id": "XjAtI-VJ7Hr2"
      },
      "execution_count": 2,
      "outputs": []
    },
    {
      "cell_type": "code",
      "source": [
        "train_path = \"../input/wildfire-prediction-dataset/train\"\n",
        "valid_path = \"../input/wildfire-prediction-dataset/valid\"\n",
        "test_path = \"../input/wildfire-prediction-dataset/test\""
      ],
      "metadata": {
        "execution": {
          "iopub.status.busy": "2023-10-01T05:50:38.638421Z",
          "iopub.execute_input": "2023-10-01T05:50:38.638785Z",
          "iopub.status.idle": "2023-10-01T05:50:38.643694Z",
          "shell.execute_reply.started": "2023-10-01T05:50:38.638757Z",
          "shell.execute_reply": "2023-10-01T05:50:38.642594Z"
        },
        "trusted": true,
        "id": "bvsD1KJg7Hr4"
      },
      "execution_count": 3,
      "outputs": []
    },
    {
      "cell_type": "code",
      "source": [
        "image_shape = (350,350,3)\n",
        "N_CLASSES = 2\n",
        "BATCH_SIZE = 256\n",
        "\n",
        "train_datagen = ImageDataGenerator(\n",
        "                    rotation_range=40,\n",
        "                    width_shift_range=0.2,\n",
        "                    height_shift_range=0.2,\n",
        "                    rescale=1./255,\n",
        "                    shear_range=0.2,\n",
        "                    zoom_range=0.2,\n",
        "                    horizontal_flip=True,\n",
        "                    fill_mode='nearest')\n",
        "train_generator = train_datagen.flow_from_directory(train_path,\n",
        "                                                   batch_size = BATCH_SIZE,\n",
        "                                                   target_size = (350,350),\n",
        "                                                   class_mode = 'categorical')\n",
        "\n",
        "valid_datagen = ImageDataGenerator(\n",
        "                    rotation_range=40,\n",
        "                    width_shift_range=0.2,\n",
        "                    height_shift_range=0.2,\n",
        "                    rescale=1./255,\n",
        "                    shear_range=0.2,\n",
        "                    zoom_range=0.2,\n",
        "                    horizontal_flip=True,\n",
        "                    fill_mode='nearest')\n",
        "valid_generator = valid_datagen.flow_from_directory(valid_path,\n",
        "                                                   batch_size = BATCH_SIZE,\n",
        "                                                   target_size = (350,350),\n",
        "                                                   class_mode = 'categorical')\n",
        "\n",
        "\n",
        "test_datagen = ImageDataGenerator(rescale=1./255)\n",
        "\n",
        "test_generator = test_datagen.flow_from_directory(test_path,\n",
        "                                                   batch_size = BATCH_SIZE,\n",
        "                                                   target_size = (350,350),\n",
        "                                                   class_mode = 'categorical')\n",
        "\n"
      ],
      "metadata": {
        "trusted": true,
        "id": "8rxuV55V7Hr5",
        "colab": {
          "base_uri": "https://localhost:8080/"
        },
        "outputId": "6f31ae51-44d5-4859-e86c-745f855edbc5"
      },
      "execution_count": 4,
      "outputs": [
        {
          "output_type": "stream",
          "name": "stdout",
          "text": [
            "Found 30250 images belonging to 2 classes.\n",
            "Found 6300 images belonging to 2 classes.\n",
            "Found 6300 images belonging to 2 classes.\n"
          ]
        }
      ]
    },
    {
      "cell_type": "code",
      "source": [
        "model = Sequential()\n",
        "\n",
        "# Convolutional layers\n",
        "model.add(Conv2D(filters=16, kernel_size=3, activation='relu', input_shape=image_shape))\n",
        "model.add(MaxPooling2D(pool_size=2))\n",
        "\n",
        "# Flatten layer\n",
        "model.add(Flatten())\n",
        "\n",
        "# Fully connected layers\n",
        "model.add(Dense(32, activation='relu'))\n",
        "model.add(Dropout(0.3))\n",
        "model.add(Dense(2, activation='softmax'))\n",
        "\n",
        "model.summary()"
      ],
      "metadata": {
        "execution": {
          "iopub.status.busy": "2023-09-24T23:31:09.274199Z",
          "iopub.execute_input": "2023-09-24T23:31:09.274586Z",
          "iopub.status.idle": "2023-09-24T23:31:09.416867Z",
          "shell.execute_reply.started": "2023-09-24T23:31:09.274559Z",
          "shell.execute_reply": "2023-09-24T23:31:09.416119Z"
        },
        "trusted": true,
        "id": "VM_zGwK47Hr6",
        "colab": {
          "base_uri": "https://localhost:8080/"
        },
        "outputId": "320ed65d-ae9f-4c7f-9ddd-a949d5076e21"
      },
      "execution_count": 5,
      "outputs": [
        {
          "output_type": "stream",
          "name": "stdout",
          "text": [
            "Model: \"sequential\"\n",
            "_________________________________________________________________\n",
            " Layer (type)                Output Shape              Param #   \n",
            "=================================================================\n",
            " conv2d (Conv2D)             (None, 348, 348, 16)      448       \n",
            "                                                                 \n",
            " max_pooling2d (MaxPooling2  (None, 174, 174, 16)      0         \n",
            " D)                                                              \n",
            "                                                                 \n",
            " flatten (Flatten)           (None, 484416)            0         \n",
            "                                                                 \n",
            " dense (Dense)               (None, 32)                15501344  \n",
            "                                                                 \n",
            " dropout (Dropout)           (None, 32)                0         \n",
            "                                                                 \n",
            " dense_1 (Dense)             (None, 2)                 66        \n",
            "                                                                 \n",
            "=================================================================\n",
            "Total params: 15501858 (59.13 MB)\n",
            "Trainable params: 15501858 (59.13 MB)\n",
            "Non-trainable params: 0 (0.00 Byte)\n",
            "_________________________________________________________________\n"
          ]
        }
      ]
    },
    {
      "cell_type": "code",
      "source": [
        "from PIL import ImageFile\n",
        "ImageFile.LOAD_TRUNCATED_IMAGES = True\n",
        "\n",
        "early_stopping = EarlyStopping(monitor= 'val_loss', patience= 10)\n",
        "optimizer = optimizers.Adam(learning_rate= 0.001)\n",
        "model.compile(loss= 'categorical_crossentropy', optimizer= optimizer,\n",
        "                    metrics=['accuracy'])\n",
        "\n",
        "# TRAIN\n",
        "history = model.fit(train_generator,\n",
        "                    epochs = 2,\n",
        "                    verbose = 1,\n",
        "                    validation_data = valid_generator,\n",
        "                    callbacks = [early_stopping])"
      ],
      "metadata": {
        "execution": {
          "iopub.status.busy": "2023-09-24T23:31:13.556366Z",
          "iopub.execute_input": "2023-09-24T23:31:13.556742Z",
          "iopub.status.idle": "2023-09-25T01:05:05.869591Z",
          "shell.execute_reply.started": "2023-09-24T23:31:13.556713Z",
          "shell.execute_reply": "2023-09-25T01:05:05.868217Z"
        },
        "trusted": true,
        "id": "FNJQOJqT7Hr6",
        "colab": {
          "base_uri": "https://localhost:8080/"
        },
        "outputId": "62008ca4-f812-42ce-ca15-050970e0df97"
      },
      "execution_count": 6,
      "outputs": [
        {
          "output_type": "stream",
          "name": "stdout",
          "text": [
            "Epoch 1/2\n",
            "119/119 [==============================] - 1084s 9s/step - loss: 1.1594 - accuracy: 0.8164 - val_loss: 0.2482 - val_accuracy: 0.9002\n",
            "Epoch 2/2\n",
            "119/119 [==============================] - 1068s 9s/step - loss: 0.2868 - accuracy: 0.8974 - val_loss: 0.2070 - val_accuracy: 0.9202\n"
          ]
        }
      ]
    },
    {
      "cell_type": "code",
      "source": [
        "# see if it's good at predecting new inputs\n",
        "result = model.evaluate(test_generator)"
      ],
      "metadata": {
        "execution": {
          "iopub.status.busy": "2023-09-25T01:14:25.366151Z",
          "iopub.execute_input": "2023-09-25T01:14:25.366533Z",
          "iopub.status.idle": "2023-09-25T01:15:07.729667Z",
          "shell.execute_reply.started": "2023-09-25T01:14:25.366504Z",
          "shell.execute_reply": "2023-09-25T01:15:07.728367Z"
        },
        "trusted": true,
        "id": "ltt_Tsk57Hr8",
        "colab": {
          "base_uri": "https://localhost:8080/"
        },
        "outputId": "7a1f973d-b579-480d-aea8-c1d2b03c531c"
      },
      "execution_count": 8,
      "outputs": [
        {
          "output_type": "stream",
          "name": "stdout",
          "text": [
            "25/25 [==============================] - 33s 1s/step - loss: 0.2015 - accuracy: 0.9263\n"
          ]
        }
      ]
    },
    {
      "cell_type": "code",
      "source": [
        "from sklearn.metrics import classification_report\n",
        "\n",
        "# Generate predictions for test data\n",
        "predictions = model.predict(test_generator)\n",
        "predicted_classes = np.argmax(predictions, axis=1)\n",
        "\n",
        "# Get true labels\n",
        "true_classes = test_generator.classes\n",
        "\n",
        "# Get class labels\n",
        "class_labels = list(test_generator.class_indices.keys())\n",
        "\n",
        "# Generate classification report\n",
        "report = classification_report(true_classes, predicted_classes, target_names=class_labels)\n",
        "print(report)\n"
      ],
      "metadata": {
        "colab": {
          "base_uri": "https://localhost:8080/"
        },
        "id": "qm3qYh-BR1LC",
        "outputId": "a257b787-babe-464d-f84e-cfa96ad5238f"
      },
      "execution_count": 9,
      "outputs": [
        {
          "output_type": "stream",
          "name": "stdout",
          "text": [
            "25/25 [==============================] - 31s 1s/step\n",
            "              precision    recall  f1-score   support\n",
            "\n",
            "  nowildfire       0.44      0.45      0.45      2820\n",
            "    wildfire       0.55      0.53      0.54      3480\n",
            "\n",
            "    accuracy                           0.50      6300\n",
            "   macro avg       0.49      0.49      0.49      6300\n",
            "weighted avg       0.50      0.50      0.50      6300\n",
            "\n"
          ]
        }
      ]
    }
  ]
}